{
 "cells": [
  {
   "cell_type": "code",
   "execution_count": 11,
   "metadata": {
    "collapsed": true
   },
   "outputs": [],
   "source": [
    "import logging\n",
    "import json\n",
    "import os\n",
    "\n",
    "from PIL import Image\n",
    "import math\n",
    "\n",
    "\n",
    "def cropper(bot, update):\n",
    "    file_path = None\n",
    "\n",
    "    chat_dir = os.path.join(\"data\", str(update.message.chat_id))\n",
    "    if not os.path.exists(chat_dir):\n",
    "        os.mkdir(chat_dir)\n",
    "\n",
    "    if update.message.document is None:\n",
    "        # Photo case\n",
    "        file_id = update.message.photo[-1].file_id\n",
    "        file = bot.get_file(file_id)\n",
    "        file_path = os.path.join(chat_dir, file_id + \".jpg\")\n",
    "        file.download(file_path)\n",
    "    elif update.message.photo == [] and update.message.document is not None:\n",
    "        # Document case\n",
    "        file_name = update.message.document.file_name\n",
    "\n",
    "        if file_name[-4:].lower() != \".jpg\":\n",
    "            update.message.reply_text(\"Better send me a file with .jpg extension\")\n",
    "            return\n",
    "\n",
    "        file = bot.get_file(update.message.document.file_id)\n",
    "        file_path = os.path.join(chat_dir, file_name)\n",
    "        file.download(file_path)\n",
    "    else:\n",
    "        update.message.reply_text(\"Error\")\n",
    "        return\n",
    "\n",
    "    update.message.reply_text(\"Cropping ...\")\n",
    "    letscrop(update, file_path, chat_dir)"
   ]
  },
  {
   "cell_type": "code",
   "execution_count": 61,
   "metadata": {},
   "outputs": [
    {
     "name": "stdout",
     "output_type": "stream",
     "text": [
      "W: 12131 H: 3713\n",
      "Slice height: 3032 out of 3713 with shift 340\n",
      "4 * 3032 = 12128\n"
     ]
    }
   ],
   "source": [
    "def letscrop(file_path, chat_dir, squares=False, update=None, remove=True):\n",
    "    img = Image.open(file_path)\n",
    "    width, height = img.size\n",
    "\n",
    "    slices = math.ceil(width / height)\n",
    "    slice_width = math.floor(width / slices)\n",
    "    if squares:\n",
    "        slice_height = slice_width\n",
    "    else:\n",
    "        slice_height = math.floor(slice_width * (1350 / 1080))    \n",
    "        if slice_height > height:\n",
    "            slice_height = height\n",
    "    vert_shift = math.floor((height - slice_height) / 2)\n",
    "    \n",
    "    debug_text = []\n",
    "    debug_text.append('W: {}, H: {}'.format(width, height))\n",
    "    debug_text.append('Slice height: {} out of {} with shift {}'.format(slice_height, height, vert_shift))\n",
    "    debug_text.append('{} * {} = {}'.format(slices, slice_width, slices * slice_width))\n",
    "    debug_text = '\\n'.join(debug_text)\n",
    "\n",
    "    if update:\n",
    "        if width < height:\n",
    "            update.message.reply_text(\"Soryan, it's not a horizontal panorama\")\n",
    "            return\n",
    "\n",
    "    right = slice_width\n",
    "    left = 0\n",
    "\n",
    "    for slice_num in range(slices):\n",
    "        working_slice = img.crop((left, vert_shift, right, vert_shift + slice_height))\n",
    "\n",
    "        slice_name = os.path.join(chat_dir, str(slice_num) + \"_\" + \"slice\" + \".jpg\")\n",
    "        working_slice.save(slice_name)\n",
    "        \n",
    "        right += slice_width\n",
    "        left += slice_width\n",
    "\n",
    "        if update:\n",
    "            with open(slice_name, \"rb\") as f:\n",
    "                update.message.reply_photo(photo=f)\n",
    "\n",
    "        if remove:\n",
    "            os.remove(slice_name)\n",
    "    \n",
    "    if update:\n",
    "        update.message.reply_text(debug_text)\n",
    "\n",
    "\n",
    "# letscrop('data/107183599/__0000.jpg', 'data/107183599', remove=False)\n",
    "# letscrop('data/107183599/__00001.jpg', 'data/107183599', remove=False)\n",
    "letscrop('data/107183599/IMG_5943.jpg', 'data/107183599', remove=False, squares=True)\n",
    "# letscrop('data/107183599/test.jpg', 'data/107183599', remove=False)"
   ]
  },
  {
   "cell_type": "code",
   "execution_count": null,
   "metadata": {
    "collapsed": true
   },
   "outputs": [],
   "source": []
  }
 ],
 "metadata": {
  "kernelspec": {
   "display_name": "Python 3",
   "language": "python",
   "name": "python3"
  },
  "language_info": {
   "codemirror_mode": {
    "name": "ipython",
    "version": 3
   },
   "file_extension": ".py",
   "mimetype": "text/x-python",
   "name": "python",
   "nbconvert_exporter": "python",
   "pygments_lexer": "ipython3",
   "version": "3.6.4"
  }
 },
 "nbformat": 4,
 "nbformat_minor": 1
}
