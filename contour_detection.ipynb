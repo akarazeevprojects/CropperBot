{
 "cells": [
  {
   "cell_type": "code",
   "execution_count": 1,
   "metadata": {},
   "outputs": [
    {
     "data": {
      "image/png": "[encoded data removed]",
      "text/plain": [
       "<Figure size 432x288 with 1 Axes>"
      ]
     },
     "metadata": {
      "needs_background": "light"
     },
     "output_type": "display_data"
    }
   ],
   "source": [
    "import matplotlib.pyplot as plt\n",
    "%matplotlib inline\n",
    "import cv2\n",
    "import numpy as np\n",
    "\n",
    "image = cv2.imread('IMG_5050.JPG',-1)\n",
    "# paper = cv2.resize(image, (1000, 500))\n",
    "paper = image\n",
    "# ret, thresh_gray = cv2.threshold(cv2.cvtColor(paper, cv2.COLOR_BGR2GRAY),\n",
    "#                         200, 255, cv2.THRESH_BINARY)\n",
    "ret, thresh_gray = cv2.threshold(cv2.cvtColor(paper, cv2.COLOR_BGR2GRAY),\n",
    "                                 200, 255, cv2.THRESH_BINARY)\n",
    "\n",
    "plt.imshow(thresh_gray);"
   ]
  },
  {
   "cell_type": "code",
   "execution_count": 11,
   "metadata": {},
   "outputs": [
    {
     "data": {
      "text/plain": [
       "[(4447, 1608077.0), (4283, 420448.0), (4515, 384080.0)]"
      ]
     },
     "execution_count": 11,
     "metadata": {},
     "output_type": "execute_result"
    }
   ],
   "source": [
    "sorted(list(map(lambda x: (x[0], cv2.contourArea(x[1])), enumerate(contours))),\n",
    "                   key=lambda x: x[1], reverse=True)[:3]"
   ]
  },
  {
   "cell_type": "code",
   "execution_count": 8,
   "metadata": {},
   "outputs": [],
   "source": [
    "contours, hier = cv2.findContours(thresh_gray, cv2.RETR_EXTERNAL,cv2.CHAIN_APPROX_NONE)\n",
    "for i, _ in sorted(list(map(lambda x: (x[0], cv2.contourArea(x[1])), enumerate(contours))),\n",
    "                   key=lambda x: x[1], reverse=True)[:3]:\n",
    "    rect = cv2.minAreaRect(contours[i])\n",
    "    box = cv2.boxPoints(rect)\n",
    "    box = np.int0(box)\n",
    "    paper = image.copy()\n",
    "    cv2.drawContours(paper, [box], 0, (0, 255, 0), 10)\n",
    "    cv2.imwrite('paper_{}.jpg'.format(i),paper)"
   ]
  },
  {
   "cell_type": "code",
   "execution_count": 35,
   "metadata": {},
   "outputs": [
    {
     "data": {
      "text/plain": [
       "True"
      ]
     },
     "execution_count": 35,
     "metadata": {},
     "output_type": "execute_result"
    }
   ],
   "source": [
    "contours, hier = cv2.findContours(thresh_gray, cv2.RETR_EXTERNAL,cv2.CHAIN_APPROX_NONE)\n",
    "for c in contours:\n",
    "    rect = cv2.minAreaRect(c)\n",
    "    box = cv2.boxPoints(rect)\n",
    "    # convert all coordinates floating point values to int\n",
    "    box = np.int0(box)\n",
    "    # draw a green 'nghien' rectangle\n",
    "    cv2.drawContours(paper, [box], 0, (0, 255, 0),1)\n",
    "\n",
    "cv2.imwrite('paper.jpg',paper)"
   ]
  },
  {
   "cell_type": "code",
   "execution_count": 23,
   "metadata": {},
   "outputs": [
    {
     "data": {
      "text/plain": [
       "True"
      ]
     },
     "execution_count": 23,
     "metadata": {},
     "output_type": "execute_result"
    }
   ],
   "source": [
    "contours, hier = cv2.findContours(thresh_gray, cv2.RETR_EXTERNAL,cv2.CHAIN_APPROX_NONE)\n",
    "\n",
    "rect = cv2.minAreaRect(max(contours, key=lambda x: cv2.contourArea(x)))\n",
    "box = cv2.boxPoints(rect)\n",
    "box = np.int0(box)\n",
    "cv2.drawContours(paper, [box], 0, (0, 255, 0),1)\n",
    "\n",
    "cv2.imwrite('paper.jpg',paper)"
   ]
  }
 ],
 "metadata": {
  "kernelspec": {
   "display_name": "Python 3",
   "language": "python",
   "name": "python3"
  },
  "language_info": {
   "codemirror_mode": {
    "name": "ipython",
    "version": 3
   },
   "file_extension": ".py",
   "mimetype": "text/x-python",
   "name": "python",
   "nbconvert_exporter": "python",
   "pygments_lexer": "ipython3",
   "version": "3.7.1"
  }
 },
 "nbformat": 4,
 "nbformat_minor": 2
}
